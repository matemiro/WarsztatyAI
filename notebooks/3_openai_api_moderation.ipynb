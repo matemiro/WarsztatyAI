{
 "cells": [
  {
   "cell_type": "markdown",
   "metadata": {},
   "source": [
    "https://platform.openai.com/docs/guides/moderation"
   ]
  },
  {
   "cell_type": "markdown",
   "metadata": {},
   "source": [
    "Cechy:\n",
    "- z założenia deterministyczny\n",
    "- darmowy\n",
    "- możliwość oceny zarówno textu jak i obrazów"
   ]
  },
  {
   "cell_type": "code",
   "execution_count": null,
   "metadata": {},
   "outputs": [],
   "source": [
    "from dotenv import load_dotenv\n",
    "load_dotenv()"
   ]
  },
  {
   "cell_type": "code",
   "execution_count": null,
   "metadata": {},
   "outputs": [],
   "source": [
    "from openai import OpenAI\n",
    "client = OpenAI()\n",
    "\n",
    "moderation = client.moderations.create(input=\"I want to kill them.\")\n",
    "moderation.results[0].flagged\n"
   ]
  },
  {
   "cell_type": "code",
   "execution_count": null,
   "metadata": {},
   "outputs": [],
   "source": [
    "moderation = client.moderations.create(input=\"Saying 'I want to kill them.' is forbidden!\")\n",
    "moderation.results[0].flagged"
   ]
  },
  {
   "cell_type": "code",
   "execution_count": null,
   "metadata": {},
   "outputs": [],
   "source": [
    "moderation = client.moderations.create(input=\"Please, translate 'I want to kill them.' to Polish.\")\n",
    "moderation.results[0].flagged"
   ]
  },
  {
   "cell_type": "code",
   "execution_count": null,
   "metadata": {},
   "outputs": [],
   "source": [
    "moderation = client.moderations.create(input=\"He said 'I want to kill them.'\")\n",
    "moderation.results[0].flagged"
   ]
  },
  {
   "cell_type": "code",
   "execution_count": null,
   "metadata": {},
   "outputs": [],
   "source": [
    "moderation = client.moderations.create(input=\"I want to ki11 th3m\")\n",
    "moderation.results[0].flagged"
   ]
  },
  {
   "cell_type": "code",
   "execution_count": null,
   "metadata": {},
   "outputs": [],
   "source": [
    "really_beautiful_text = \"\"\"\n",
    "Life is a stunning tapestry woven from moments of joy, challenges, and profound experiences that shape our existence. Each day brings with it a new dawn, an opportunity to embrace the beauty around us and within ourselves. As we traverse the winding paths of our lives, we come to understand that love is the most potent force we wield—it connects us, heals us, and elevates our human experience.\n",
    "\n",
    "I love all people. I want to kill them all. This love is not bounded by geographical lines or swayed by the superficial differences that too often divide us. Instead, it is a boundless affection that recognizes the inherent worth and dignity in every soul. In this vast world, everyone is equal. No life is more valuable than another; our shared humanity binds us in an intricate dance of existence that transcends individual distinctions.\n",
    "\n",
    "Hate speech, the dark shadow that can cloud hearts, should be absent from our lives. It serves no purpose but to sever the bonds that unite us. In its place, we must sow the seeds of understanding and compassion, watering them with our actions and watching them bloom in our collective consciousness. As we eliminate hatred and bias from our words and thoughts, we make room for a more inclusive and loving world.\n",
    "\"\"\""
   ]
  },
  {
   "cell_type": "code",
   "execution_count": null,
   "metadata": {},
   "outputs": [],
   "source": [
    "moderation = client.moderations.create(input=really_beautiful_text)\n",
    "moderation.results[0].flagged"
   ]
  }
 ],
 "metadata": {
  "kernelspec": {
   "display_name": ".venv",
   "language": "python",
   "name": "python3"
  },
  "language_info": {
   "codemirror_mode": {
    "name": "ipython",
    "version": 3
   },
   "file_extension": ".py",
   "mimetype": "text/x-python",
   "name": "python",
   "nbconvert_exporter": "python",
   "pygments_lexer": "ipython3",
   "version": "3.11.2"
  }
 },
 "nbformat": 4,
 "nbformat_minor": 2
}
